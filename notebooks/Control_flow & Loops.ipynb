{
 "cells": [
  {
   "cell_type": "markdown",
   "metadata": {
    "id": "ap8nBUeJw6_L"
   },
   "source": [
    "# Operators"
   ]
  },
  {
   "cell_type": "markdown",
   "metadata": {
    "id": "pioz9V7Uw6_Q"
   },
   "source": [
    "Operators are special symbols in Python that carry out arithmetic or logical computation. The value that the operator operates on is called the operand."
   ]
  },
  {
   "cell_type": "markdown",
   "metadata": {
    "id": "tDJIpiMhw6_Q"
   },
   "source": [
    "# Types of Operators"
   ]
  },
  {
   "cell_type": "markdown",
   "metadata": {
    "id": "Pc7fDeQyw6_R"
   },
   "source": [
    "* Arithmetic operators\n",
    "    \n",
    "* Comparison (Relational) operators\n",
    "\n",
    "* Logical (Boolean) operators\n",
    "\n",
    "* Bitwise operators\n",
    "\n",
    "* Assignment operators\n",
    "\n",
    "* Special operators"
   ]
  },
  {
   "cell_type": "markdown",
   "metadata": {
    "id": "9ODV-SzLw6_R"
   },
   "source": [
    "# Arithmetic Operators"
   ]
  },
  {
   "cell_type": "markdown",
   "metadata": {
    "id": "xQNQWnh-w6_S"
   },
   "source": [
    "Arithmetic operators are used to perform mathematical operations like addition, subtraction, multiplication etc."
   ]
  },
  {
   "cell_type": "markdown",
   "metadata": {
    "id": "iG1EaijRw6_S"
   },
   "source": [
    "    + , -, *, /, %, //, **  are arithmetic operators"
   ]
  },
  {
   "cell_type": "markdown",
   "metadata": {
    "id": "S0OV7kElw6_T"
   },
   "source": [
    "Example:"
   ]
  },
  {
   "cell_type": "code",
   "execution_count": 1,
   "metadata": {
    "id": "BsnDtWrNw6_T",
    "outputId": "1b4fc402-8908-42cc-f205-168de059ecea"
   },
   "outputs": [
    {
     "name": "stdout",
     "output_type": "stream",
     "text": [
      "30\n"
     ]
    }
   ],
   "source": [
    "x, y = 10, 20\n",
    "\n",
    "#addition\n",
    "print(x + y)\n",
    "\n",
    "#subtraction(-)\n",
    "\n",
    "#multiplication(*)\n",
    "\n",
    "#division(/)\n",
    "\n",
    "#modulo division (%)\n",
    "\n",
    "#Floor Division (//)\n",
    "\n",
    "#Exponent (**)"
   ]
  },
  {
   "cell_type": "markdown",
   "metadata": {
    "id": "ih5c1shbw6_V"
   },
   "source": [
    "# Comparision Operators"
   ]
  },
  {
   "cell_type": "markdown",
   "metadata": {
    "id": "WxWpXijHw6_V"
   },
   "source": [
    "Comparison operators are used to compare values. It either returns True or False according to the condition."
   ]
  },
  {
   "cell_type": "markdown",
   "metadata": {
    "id": "sApOzhMRw6_W"
   },
   "source": [
    "    >, <, ==, !=, >=, <= are comparision operators"
   ]
  },
  {
   "cell_type": "code",
   "execution_count": 2,
   "metadata": {
    "id": "wRPRin4Dw6_W",
    "outputId": "f88cf5d1-d03a-48c5-a60c-65663e3c2271"
   },
   "outputs": [
    {
     "name": "stdout",
     "output_type": "stream",
     "text": [
      "True\n"
     ]
    }
   ],
   "source": [
    "a, b = 10, 20         \n",
    "\n",
    "print(a < b)  #check a is less than b\n",
    "\n",
    "#check a is greater than b\n",
    "\n",
    "#check a is equal to b\n",
    "\n",
    "#check a is not equal to b (!=)\n",
    "\n",
    "#check a greater than or equal to b\n",
    "\n",
    "#check a less than or equal to b\n"
   ]
  },
  {
   "cell_type": "markdown",
   "metadata": {
    "id": "KFoWIv-Bw6_W"
   },
   "source": [
    "# Logical Operators"
   ]
  },
  {
   "cell_type": "markdown",
   "metadata": {
    "id": "FxU1w2Zfw6_W"
   },
   "source": [
    "Logical operators are  **and, or, not** operators."
   ]
  },
  {
   "cell_type": "code",
   "execution_count": 3,
   "metadata": {
    "id": "9yuORzfRw6_X",
    "outputId": "171a7fd6-ee4b-4464-8ed8-2a26a952d643"
   },
   "outputs": [
    {
     "name": "stdout",
     "output_type": "stream",
     "text": [
      "False\n"
     ]
    }
   ],
   "source": [
    "a, b = True, False\n",
    "\n",
    "#print a and b\n",
    "print(a and b)\n",
    "\n",
    "#print a or b\n",
    "\n",
    "#print not b\n"
   ]
  },
  {
   "cell_type": "markdown",
   "metadata": {
    "id": "oyNEYFYow6_X"
   },
   "source": [
    "# Bitwise operators"
   ]
  },
  {
   "cell_type": "markdown",
   "metadata": {
    "id": "YmOMpn28w6_X"
   },
   "source": [
    "Bitwise operators act on operands as if they were string of binary digits. It operates bit by bit"
   ]
  },
  {
   "cell_type": "markdown",
   "metadata": {
    "id": "7I_W0xOaw6_X"
   },
   "source": [
    "    &,  |,  ~,  ^,  >>,  << are Bitwise operators"
   ]
  },
  {
   "cell_type": "code",
   "execution_count": 26,
   "metadata": {
    "id": "UKAfKcYYw6_Y",
    "outputId": "d68cf11b-e7f0-43e2-9869-a19a382fb943"
   },
   "outputs": [
    {
     "name": "stdout",
     "output_type": "stream",
     "text": [
      "0\n"
     ]
    }
   ],
   "source": [
    "a, b = 10, 4\n",
    "\n",
    "a & b  # binary: 1010 & 0100 = 0000 = 0 (decimal)\n",
    "\n",
    "#Bitwise AND\n",
    "print(a & b)\n",
    "\n",
    "#Bitwise OR\n",
    "\n",
    "\n",
    "#Bitwise NOT\n",
    "\n",
    "\n",
    "#Bitwise XOR\n",
    "\n",
    "\n",
    "#Bitwise rightshift\n",
    "\n",
    "\n",
    "#Bitwise Leftshift\n"
   ]
  },
  {
   "cell_type": "markdown",
   "metadata": {
    "id": "H-d5qH7-w6_Y"
   },
   "source": [
    "# Assignment operators"
   ]
  },
  {
   "cell_type": "markdown",
   "metadata": {
    "id": "cCPtm342w6_Y"
   },
   "source": [
    "Assignment operators are used in Python to assign values to variables.\n",
    "\n",
    "a = 5 is a simple assignment operator that assigns the value 5 on the right to the variable a on the left."
   ]
  },
  {
   "cell_type": "markdown",
   "metadata": {
    "id": "Ae-ZXcpBw6_Z"
   },
   "source": [
    "    =,  +=,  -=,  *=,  /=,  %=,  //=,  **=, &=,  |=,  ^=,  >>=,  <<= are Assignment operators"
   ]
  },
  {
   "cell_type": "code",
   "execution_count": 5,
   "metadata": {
    "id": "28pQPe1iw6_Z",
    "outputId": "e25f7e5e-73d5-49c1-9fe6-1a80b3c7a380"
   },
   "outputs": [
    {
     "name": "stdout",
     "output_type": "stream",
     "text": [
      "20\n"
     ]
    }
   ],
   "source": [
    "a = 10\n",
    "\n",
    "a += 10         #add AND\n",
    "print(a)\n",
    "\n",
    "#subtract AND (-=)\n",
    "\n",
    "#Multiply AND (*=)\n",
    "\n",
    "#Divide AND (/=)\n",
    "\n",
    "#Modulus AND (%=)\n",
    "\n",
    "#Floor Division (//=)\n",
    "\n",
    "#Exponent AND (**=)\n"
   ]
  },
  {
   "cell_type": "markdown",
   "metadata": {
    "id": "btB8xWD_w6_b"
   },
   "source": [
    "# Special Operators"
   ]
  },
  {
   "cell_type": "markdown",
   "metadata": {},
   "source": [
    "#### Will come back later"
   ]
  },
  {
   "cell_type": "markdown",
   "metadata": {},
   "source": [
    "## Control Flow"
   ]
  },
  {
   "cell_type": "markdown",
   "metadata": {},
   "source": [
    "* Python If statement\n",
    "* Python if-else statement:\n",
    "* Python if-elif-else statement:"
   ]
  },
  {
   "cell_type": "code",
   "execution_count": 18,
   "metadata": {},
   "outputs": [
    {
     "name": "stdout",
     "output_type": "stream",
     "text": [
      " Move down \n"
     ]
    }
   ],
   "source": [
    "user_floor = 5\n",
    "current_floor = 8\n",
    "\n",
    "difference = user_floor - current_floor\n",
    "\n",
    "if difference < 0 : \n",
    "    current_floor = user_floor\n",
    "    print ( \" Move down \")"
   ]
  },
  {
   "cell_type": "code",
   "execution_count": 16,
   "metadata": {},
   "outputs": [
    {
     "name": "stdout",
     "output_type": "stream",
     "text": [
      " Open door \n"
     ]
    }
   ],
   "source": [
    "user_floor = 5\n",
    "current_floor = 2\n",
    "\n",
    "difference = user_floor - current_floor\n",
    "\n",
    "if difference < 0 : \n",
    "    current_floor = user_floor\n",
    "    print ( \" Move down \")\n",
    "     \n",
    "else :\n",
    "    print ( \" Open door \")"
   ]
  },
  {
   "cell_type": "code",
   "execution_count": 17,
   "metadata": {},
   "outputs": [
    {
     "name": "stdout",
     "output_type": "stream",
     "text": [
      " Move up \n"
     ]
    }
   ],
   "source": [
    "user_floor = 5\n",
    "current_floor = 2\n",
    "\n",
    "difference = user_floor - current_floor\n",
    " \n",
    "if difference < 0 : \n",
    "    current_floor = user_floor\n",
    "    print ( \" Move down \")\n",
    "     \n",
    "elif difference > 0 : \n",
    "    current_floor = user_floor\n",
    "    print ( \" Move up \")    \n",
    "     \n",
    "else :\n",
    "    print ( \" Open door \")"
   ]
  },
  {
   "cell_type": "markdown",
   "metadata": {},
   "source": [
    "## Loops\n",
    "Loops are another type (if - elif - else being the other) of flow control mechanism available in any programming language. Loops are used to perform repetitive tasks. In this section, we will explore the two basic syntaxes available in Python for loops - for loops and while loops."
   ]
  },
  {
   "cell_type": "markdown",
   "metadata": {},
   "source": [
    "Contents\n",
    "* while Loop\n",
    "* for Loop\n",
    "* break Statement\n",
    "* Continue statement"
   ]
  },
  {
   "cell_type": "code",
   "execution_count": 19,
   "metadata": {},
   "outputs": [
    {
     "name": "stdout",
     "output_type": "stream",
     "text": [
      "0\n",
      "1\n",
      "2\n",
      "3\n",
      "4\n",
      "5\n",
      "6\n",
      "7\n",
      "8\n",
      "9\n"
     ]
    }
   ],
   "source": [
    "count = 0\n",
    "\n",
    "while count < 10 :\n",
    "    print ( count )\n",
    "    count = count + 1\n",
    "    "
   ]
  },
  {
   "cell_type": "code",
   "execution_count": 25,
   "metadata": {},
   "outputs": [
    {
     "name": "stdout",
     "output_type": "stream",
     "text": [
      "0\n",
      "1\n",
      "2\n",
      "3\n",
      "4\n"
     ]
    }
   ],
   "source": [
    "numbers = range(5)\n",
    "for number in numbers : \n",
    "    print ( number )"
   ]
  },
  {
   "cell_type": "code",
   "execution_count": 22,
   "metadata": {},
   "outputs": [
    {
     "name": "stdout",
     "output_type": "stream",
     "text": [
      "1 2 3 4 6 7 8 9 11 12 13 14 16 17 18 19 21 22 23 24 26 27 28 29 "
     ]
    }
   ],
   "source": [
    "for number in range(30) :\n",
    "    if number % 5 == 0 :\n",
    "        continue\n",
    "    print ( number , end= \" \")"
   ]
  },
  {
   "cell_type": "code",
   "execution_count": 24,
   "metadata": {},
   "outputs": [
    {
     "name": "stdout",
     "output_type": "stream",
     "text": [
      "0 "
     ]
    }
   ],
   "source": [
    "for number in range(30) :\n",
    "    if number % 5 == 0 :\n",
    "        break\n",
    "print ( number , end= \" \")"
   ]
  },
  {
   "cell_type": "code",
   "execution_count": null,
   "metadata": {},
   "outputs": [],
   "source": []
  }
 ],
 "metadata": {
  "colab": {
   "provenance": []
  },
  "kernelspec": {
   "display_name": "Python 3 (ipykernel)",
   "language": "python",
   "name": "python3"
  },
  "language_info": {
   "codemirror_mode": {
    "name": "ipython",
    "version": 3
   },
   "file_extension": ".py",
   "mimetype": "text/x-python",
   "name": "python",
   "nbconvert_exporter": "python",
   "pygments_lexer": "ipython3",
   "version": "3.8.11"
  }
 },
 "nbformat": 4,
 "nbformat_minor": 4
}
