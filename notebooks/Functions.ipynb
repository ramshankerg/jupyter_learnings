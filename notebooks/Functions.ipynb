{
 "cells": [
  {
   "cell_type": "markdown",
   "metadata": {
    "id": "W685A3V4qx1Q"
   },
   "source": [
    "# Python Functions"
   ]
  },
  {
   "cell_type": "markdown",
   "metadata": {
    "id": "iueQVnPGqx1U"
   },
   "source": [
    "Function is a group of related statements that perform a specific task."
   ]
  },
  {
   "cell_type": "markdown",
   "metadata": {
    "id": "wUB2YXtBqx1X"
   },
   "source": [
    "Functions help break our program into smaller and modular chunks. As our program grows larger and larger, functions make it more organized and manageable.\n",
    "\n",
    "It avoids repetition and makes code reusable."
   ]
  },
  {
   "cell_type": "markdown",
   "metadata": {
    "id": "LDZ6MpTwqx1a"
   },
   "source": [
    "# Syntax:"
   ]
  },
  {
   "cell_type": "markdown",
   "metadata": {
    "id": "EyqjxCEwqx1c"
   },
   "source": [
    "    def function_name(parameters):\n",
    "    \n",
    "        \"\"\"\n",
    "        Doc String\n",
    "        \"\"\"\n",
    "    \n",
    "        Statement(s)"
   ]
  },
  {
   "cell_type": "markdown",
   "metadata": {
    "id": "k4qKflh4qx1e"
   },
   "source": [
    "1. keyword \"def\" marks the start of function header\n",
    "\n",
    "2. Parameters (arguments) through which we pass values to a function. These are optional\n",
    "\n",
    "3. A colon(:) to mark the end of funciton header\n",
    "\n",
    "4. Doc string describe what the function does. This is optional\n",
    "\n",
    "5. \"return\" statement to return a value from the function. This is optional"
   ]
  },
  {
   "cell_type": "markdown",
   "metadata": {
    "id": "tHJhKoLgqx1h"
   },
   "source": [
    "# Example:"
   ]
  },
  {
   "cell_type": "code",
   "execution_count": null,
   "metadata": {
    "id": "Y8D1p1eAqx1i"
   },
   "outputs": [],
   "source": [
    "def print_name(name):\n",
    "    \"\"\" \n",
    "    This function prints the name\n",
    "    \"\"\"\n",
    "    print(\"Hello \" + str(name)) \n",
    "    "
   ]
  },
  {
   "cell_type": "markdown",
   "metadata": {
    "id": "TDBBivd2qx1p"
   },
   "source": [
    "# Function Call"
   ]
  },
  {
   "cell_type": "markdown",
   "metadata": {
    "id": "Dseptsvoqx1q"
   },
   "source": [
    "Once we have defined a function, we can call it from anywhere"
   ]
  },
  {
   "cell_type": "code",
   "execution_count": null,
   "metadata": {
    "id": "4CJ01FUpqx1t",
    "outputId": "183b4d32-4a77-4d0f-d475-2df249a8b621"
   },
   "outputs": [
    {
     "name": "stdout",
     "output_type": "stream",
     "text": [
      "Hello satish\n"
     ]
    }
   ],
   "source": [
    "print_name('satish')\n"
   ]
  },
  {
   "cell_type": "markdown",
   "metadata": {
    "id": "oljIs66Jqx11"
   },
   "source": [
    "# Doc String"
   ]
  },
  {
   "cell_type": "markdown",
   "metadata": {
    "id": "7qnfLrtsqx12"
   },
   "source": [
    "The first string after the function header is called the docstring and is short for documentation string.\n"
   ]
  },
  {
   "cell_type": "markdown",
   "metadata": {
    "id": "hQmE1qO8qx14"
   },
   "source": [
    "Although optional, documentation is a good programming practice, always document your code"
   ]
  },
  {
   "cell_type": "markdown",
   "metadata": {
    "id": "HICWQwepqx15"
   },
   "source": [
    "Doc string will be written in triple quotes so that docstring can extend up to multiple lines"
   ]
  },
  {
   "cell_type": "code",
   "execution_count": null,
   "metadata": {
    "id": "hQCrIjvzqx18",
    "outputId": "35e42840-e897-46e0-ecf7-9ef1881534f4"
   },
   "outputs": [
    {
     "name": "stdout",
     "output_type": "stream",
     "text": [
      " \n",
      "    This function prints the name\n",
      "    \n"
     ]
    }
   ],
   "source": [
    "print(print_name.__doc__) # print doc string of the function\n"
   ]
  },
  {
   "cell_type": "markdown",
   "metadata": {
    "id": "7bXpeRMXqx2D"
   },
   "source": [
    "# return Statement"
   ]
  },
  {
   "cell_type": "markdown",
   "metadata": {
    "id": "GoR0PNUOqx2G"
   },
   "source": [
    "The return statement is used to exit a function and go back to the place from where it was called."
   ]
  },
  {
   "cell_type": "markdown",
   "metadata": {
    "id": "XPoedgmGqx2H"
   },
   "source": [
    "Syntax:\n",
    "    \n",
    "    return [expression]"
   ]
  },
  {
   "cell_type": "markdown",
   "metadata": {
    "id": "IIkX4Y1gqx2J"
   },
   "source": [
    "-> return statement can contain an expression which gets evaluated and the value is returned.\n",
    "\n",
    "-> if there is no expression in the statement or the return statement itself is not present inside a function, then the function will return None Object"
   ]
  },
  {
   "cell_type": "code",
   "execution_count": null,
   "metadata": {
    "id": "e8JqjPNvqx2L"
   },
   "outputs": [],
   "source": [
    "def get_sum(lst):\n",
    "    \"\"\"\n",
    "    This function returns the sum of all the elements in a list\n",
    "    \"\"\"\n",
    "    #initialize sum\n",
    "    _sum = 0\n",
    "    \n",
    "    #iterating over the list\n",
    "    for num in lst:\n",
    "        _sum += num\n",
    "    return _sum\n"
   ]
  },
  {
   "cell_type": "code",
   "execution_count": null,
   "metadata": {
    "id": "9tKmO0IQqx2T",
    "outputId": "c682c536-157f-449c-9e75-9568e9874636"
   },
   "outputs": [
    {
     "name": "stdout",
     "output_type": "stream",
     "text": [
      "10\n"
     ]
    }
   ],
   "source": [
    "s = get_sum([1, 2, 3, 4])\n",
    "print(s)\n"
   ]
  },
  {
   "cell_type": "code",
   "execution_count": null,
   "metadata": {
    "id": "aJ2e31Jrqx2Y",
    "outputId": "c56387e6-ba8a-4428-dbb2-d8173e75649b"
   },
   "outputs": [
    {
     "name": "stdout",
     "output_type": "stream",
     "text": [
      "\n",
      "    This function returns the sum of all the elements in a list\n",
      "    \n"
     ]
    }
   ],
   "source": [
    "#print doc string\n",
    "print(get_sum.__doc__)\n"
   ]
  },
  {
   "cell_type": "markdown",
   "metadata": {
    "id": "wKMztpt2qx2e"
   },
   "source": [
    "# How Function works in Python?"
   ]
  },
  {
   "attachments": {
    "a2413b23-14e7-4fba-bfdf-27da1a6dc040.png": {
     "image/png": "[encoded data removed]"
    },
    "d32028ad-8450-4ae1-9b87-3676a210dd45.png": {
     "image/png": "[encoded data removed]"
    }
   },
   "cell_type": "markdown",
   "metadata": {
    "id": "kKZtprN7qx2f"
   },
   "source": [
    "![image.png](attachment:d32028ad-8450-4ae1-9b87-3676a210dd45.png)![image.png](attachment:a2413b23-14e7-4fba-bfdf-27da1a6dc040.png)"
   ]
  },
  {
   "cell_type": "markdown",
   "metadata": {
    "id": "ngEFY7UVqx2i"
   },
   "source": [
    "# Scope and Life Time of Variables"
   ]
  },
  {
   "cell_type": "markdown",
   "metadata": {
    "id": "Q_2YkKBlqx2l"
   },
   "source": [
    "-> Scope of a variable is the portion of a program where the variable is recognized"
   ]
  },
  {
   "cell_type": "markdown",
   "metadata": {
    "id": "wwAGJbwKqx2n"
   },
   "source": [
    "-> variables defined inside a function is not visible from outside. Hence, they have a local scope."
   ]
  },
  {
   "cell_type": "markdown",
   "metadata": {
    "id": "oR9IZIIfqx2p"
   },
   "source": [
    "-> Lifetime of a variable is the period throughout which the variable exits in the memory. \n",
    "\n",
    "-> The lifetime of variables inside a function is as long as the function executes."
   ]
  },
  {
   "cell_type": "markdown",
   "metadata": {
    "id": "Sf0XTJGOqx2p"
   },
   "source": [
    "-> Variables are destroyed once we return from the function. "
   ]
  },
  {
   "cell_type": "markdown",
   "metadata": {
    "id": "SdCba00Uqx2r"
   },
   "source": [
    "# Example:"
   ]
  },
  {
   "cell_type": "code",
   "execution_count": null,
   "metadata": {
    "id": "8jUaZMoiqx2r",
    "outputId": "fe6c64c2-4b9e-466d-eaf6-56938eae3a56"
   },
   "outputs": [
    {
     "name": "stdout",
     "output_type": "stream",
     "text": [
      "This is local variable\n",
      "This is global variable\n",
      "This is global variable\n"
     ]
    },
    {
     "ename": "NameError",
     "evalue": "name 'local_var' is not defined",
     "output_type": "error",
     "traceback": [
      "\u001b[0;31m---------------------------------------------------------------------------\u001b[0m",
      "\u001b[0;31mNameError\u001b[0m                                 Traceback (most recent call last)",
      "\u001b[0;32m<ipython-input-12-d5226680661e>\u001b[0m in \u001b[0;36m<module>\u001b[0;34m()\u001b[0m\n\u001b[1;32m     19\u001b[0m \u001b[0;34m\u001b[0m\u001b[0m\n\u001b[1;32m     20\u001b[0m \u001b[0;31m#print local variable local_var\u001b[0m\u001b[0;34m\u001b[0m\u001b[0;34m\u001b[0m\u001b[0m\n\u001b[0;32m---> 21\u001b[0;31m \u001b[0mprint\u001b[0m\u001b[0;34m(\u001b[0m\u001b[0mlocal_var\u001b[0m\u001b[0;34m)\u001b[0m\u001b[0;34m\u001b[0m\u001b[0m\n\u001b[0m",
      "\u001b[0;31mNameError\u001b[0m: name 'local_var' is not defined"
     ]
    }
   ],
   "source": [
    "global_var = \"This is global variable\"\n",
    "\n",
    "def test_life_time():\n",
    "    \"\"\"\n",
    "    This function test the life time of a variables\n",
    "    \"\"\"\n",
    "    local_var = \"This is local variable\"\n",
    "    print(local_var)       #print local variable local_var\n",
    "    \n",
    "    print(global_var)      #print global variable global_var\n",
    "    \n",
    "    \n",
    "\n",
    "#calling function\n",
    "test_life_time()\n",
    "\n",
    "#print global variable global_var\n",
    "print(global_var)\n",
    "\n",
    "#print local variable local_var\n",
    "print(local_var)\n"
   ]
  },
  {
   "cell_type": "markdown",
   "metadata": {
    "id": "m57Z9Aq1qx2z"
   },
   "source": [
    "# Python program to print Highest Common Factor (HCF) of two numbers"
   ]
  },
  {
   "cell_type": "code",
   "execution_count": null,
   "metadata": {
    "colab": {
     "base_uri": "https://localhost:8080/",
     "height": 54
    },
    "id": "khyxyWWBqx20",
    "outputId": "c4883331-8436-4ef8-c939-0f7bc26a6229"
   },
   "outputs": [
    {
     "name": "stdout",
     "output_type": "stream",
     "text": [
      "H.C.F of 6 and 36 is: 6\n"
     ]
    }
   ],
   "source": [
    "def computeHCF(a, b):\n",
    "    \"\"\"\n",
    "    Computing HCF of two numbers\n",
    "    \"\"\"\n",
    "    smaller = b if a > b else a  #consice way of writing if else statement\n",
    "    \n",
    "    hcf = 1\n",
    "    for i in range(1, smaller+1):\n",
    "        if (a % i == 0) and (b % i == 0):\n",
    "            hcf = i\n",
    "    return hcf\n",
    "\n",
    "num1 = 6\n",
    "num2 = 36\n",
    "\n",
    "print(\"H.C.F of {0} and {1} is: {2}\".format(num1, num2, computeHCF(num1, num2)))"
   ]
  },
  {
   "cell_type": "code",
   "execution_count": null,
   "metadata": {
    "id": "en1Kc1Jjqx2_"
   },
   "outputs": [],
   "source": []
  }
 ],
 "metadata": {
  "colab": {
   "provenance": []
  },
  "kernelspec": {
   "display_name": "Python 3 (ipykernel)",
   "language": "python",
   "name": "python3"
  },
  "language_info": {
   "codemirror_mode": {
    "name": "ipython",
    "version": 3
   },
   "file_extension": ".py",
   "mimetype": "text/x-python",
   "name": "python",
   "nbconvert_exporter": "python",
   "pygments_lexer": "ipython3",
   "version": "3.8.11"
  }
 },
 "nbformat": 4,
 "nbformat_minor": 4
}
