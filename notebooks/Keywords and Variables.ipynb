{
 "cells": [
  {
   "cell_type": "markdown",
   "id": "099e083e-d08b-4b25-bc6c-7b3449aed73f",
   "metadata": {},
   "source": [
    "References: https://nbviewer.org/github/ehmatthes/intro_programming/blob/master/notebooks/hello_world.ipynb"
   ]
  },
  {
   "cell_type": "markdown",
   "id": "016bc705-cd68-4a02-a7bc-cf46c2f0d690",
   "metadata": {
    "tags": []
   },
   "source": [
    "## \"Hello world\" in Python\n",
    "When programmers are learning a new language, we tend to write a one-line program that prints some version of the message \"Hello world!\" this is a simple program that shows whether your computer is properly set up to run Python programs."
   ]
  },
  {
   "cell_type": "code",
   "execution_count": 69,
   "id": "3be65fae-7109-454d-9e11-cb4066574a0a",
   "metadata": {},
   "outputs": [
    {
     "name": "stdout",
     "output_type": "stream",
     "text": [
      "Hello Python world!\n"
     ]
    }
   ],
   "source": [
    "print('Hello Python world!')"
   ]
  },
  {
   "cell_type": "markdown",
   "id": "c02718ce-5c35-4d2b-83b5-9c5c7aa42afe",
   "metadata": {},
   "source": [
    "## Keywords and Variables"
   ]
  },
  {
   "cell_type": "code",
   "execution_count": 4,
   "id": "2c8920ce-a3ee-4155-8ec9-97697805da83",
   "metadata": {},
   "outputs": [
    {
     "name": "stdout",
     "output_type": "stream",
     "text": [
      "['False', 'None', 'True', 'and', 'as', 'assert', 'async', 'await', 'break', 'class', 'continue', 'def', 'del', 'elif', 'else', 'except', 'finally', 'for', 'from', 'global', 'if', 'import', 'in', 'is', 'lambda', 'nonlocal', 'not', 'or', 'pass', 'raise', 'return', 'try', 'while', 'with', 'yield']\n"
     ]
    }
   ],
   "source": [
    "import keyword as kw\n",
    "print(kw.kwlist)"
   ]
  },
  {
   "cell_type": "markdown",
   "id": "679a569b-8f57-446d-824d-139a7a5d2dbf",
   "metadata": {},
   "source": [
    "## Naming Conventions for Variables:"
   ]
  },
  {
   "cell_type": "markdown",
   "id": "8ff79aeb-590e-4fca-ab3c-084f34155ba9",
   "metadata": {},
   "source": [
    "Naming rules\n",
    "* Variables can only contain letters, numbers, and underscores. Variable names can start with a letter or an underscore, but can not start with a number.\n",
    "* Spaces are not allowed in variable names, so we use underscores instead of spaces. For example, use student_name instead of \"student name\".\n",
    "* You cannot use Python keywords as variable names.\n",
    "* Variable names should be descriptive, without being too long. For example mc_wheels is better than just \"wheels\", and number_of_wheels_on_a_motorycle.\n",
    "* Be careful about using the lowercase letter l and the uppercase letter O in places where they could be confused with the numbers 1 and 0."
   ]
  },
  {
   "cell_type": "code",
   "execution_count": 5,
   "id": "c2ee394d-6217-4ef7-a6b3-05402e3747ca",
   "metadata": {},
   "outputs": [
    {
     "ename": "SyntaxError",
     "evalue": "invalid syntax (Temp/ipykernel_15972/1996260864.py, line 1)",
     "output_type": "error",
     "traceback": [
      "\u001b[1;36m  File \u001b[1;32m\"C:\\Users\\ram\\AppData\\Local\\Temp/ipykernel_15972/1996260864.py\"\u001b[1;36m, line \u001b[1;32m1\u001b[0m\n\u001b[1;33m    global = 9\u001b[0m\n\u001b[1;37m           ^\u001b[0m\n\u001b[1;31mSyntaxError\u001b[0m\u001b[1;31m:\u001b[0m invalid syntax\n"
     ]
    }
   ],
   "source": [
    "global = 9"
   ]
  },
  {
   "cell_type": "code",
   "execution_count": 34,
   "id": "549dc933-c4dc-49fc-bc0f-be6b1e1369db",
   "metadata": {},
   "outputs": [],
   "source": [
    "shubh_ = 3"
   ]
  },
  {
   "cell_type": "markdown",
   "id": "6d4af784-c1b3-4eec-ab15-622b919b69da",
   "metadata": {
    "tags": []
   },
   "source": [
    "## Comments\n",
    "As you begin to write more complicated code, you will have to spend more time thinking about how to code solutions to the problems you want to solve. Once you come up with an idea, you will spend a fair amount of time troubleshooting your code, and revising your overall approach.\n",
    "\n",
    "Comments allow you to write in English, within your program. In Python, any line that starts with a pound (#) symbol is ignored by the Python interpreter."
   ]
  },
  {
   "cell_type": "code",
   "execution_count": 38,
   "id": "e5bee388-9225-4794-96be-667604f0575a",
   "metadata": {},
   "outputs": [
    {
     "name": "stdout",
     "output_type": "stream",
     "text": [
      "This line is not a comment, it is code.\n"
     ]
    }
   ],
   "source": [
    "# This line is a comment.\n",
    "print(\"This line is not a comment, it is code.\")"
   ]
  },
  {
   "cell_type": "markdown",
   "id": "b5fee7c1-ccec-429f-85a8-b42d3259c655",
   "metadata": {},
   "source": [
    "#### Multiline Comment"
   ]
  },
  {
   "cell_type": "code",
   "execution_count": 39,
   "id": "d274179c-4bfd-4939-85c2-6ad54a19a974",
   "metadata": {},
   "outputs": [
    {
     "data": {
      "text/plain": [
       "'This is also a perfect \\nexample of multi-line comments'"
      ]
     },
     "execution_count": 39,
     "metadata": {},
     "output_type": "execute_result"
    }
   ],
   "source": [
    "\"\"\"This is also a perfect \n",
    "example of multi-line comments\"\"\""
   ]
  },
  {
   "cell_type": "markdown",
   "id": "719908fa-edd1-489a-9384-7b0279c641b8",
   "metadata": {},
   "source": [
    "## DocString in python"
   ]
  },
  {
   "cell_type": "code",
   "execution_count": 41,
   "id": "2c4fa409-3202-4553-b934-928d97bc3239",
   "metadata": {},
   "outputs": [],
   "source": [
    "#function definition\n",
    "def triple(num):\n",
    "    \"\"\"\n",
    "    function to triple the number\n",
    "    \"\"\"\n",
    "    return 3 * num"
   ]
  },
  {
   "cell_type": "markdown",
   "id": "0a19b987-ef01-4045-8273-57d60ff0d653",
   "metadata": {},
   "source": [
    "##  Zen of Python\n",
    "The Python community is incredibly large and diverse. People are using Python in science, in medicine, in robotics, on the internet, and in any other field you can imagine. This diverse group of thinkers has developed a collective mindset about how programs should be written. If you want to understand Python and the community of Python programmers, it is a good idea to learn the ways Python programmers think.\n",
    "\n",
    "You can easily see a set of guiding principles that is written right into the language:"
   ]
  },
  {
   "cell_type": "code",
   "execution_count": 48,
   "id": "f33312f5-b53f-45f9-8550-199384d9ea6b",
   "metadata": {},
   "outputs": [],
   "source": [
    "#magic command\n",
    "import this"
   ]
  },
  {
   "cell_type": "markdown",
   "id": "b61bf2c2-cbfd-4324-babd-4323ac673daf",
   "metadata": {},
   "source": [
    "## Indentation in Python"
   ]
  },
  {
   "cell_type": "markdown",
   "id": "7a2293f6-323a-47b4-96ff-7ccd0b54d14b",
   "metadata": {},
   "source": [
    "1. Most of the programming languages like C, C++, Java use braces { } to define a block of code. Python uses indentation. \n",
    "2. A code block (body of a function, loop etc.) starts with indentation and ends with the first indented line. The amount of indentation is up to you, but it must be consistent throughout that block.\n",
    "3. Generally four white spaces are used for indentation and is preferred over tabs."
   ]
  },
  {
   "cell_type": "code",
   "execution_count": 51,
   "id": "064bc860-bc66-4b23-b220-dc6f03b8bc28",
   "metadata": {},
   "outputs": [
    {
     "name": "stdout",
     "output_type": "stream",
     "text": [
      "0\n",
      "1\n",
      "2\n",
      "3\n",
      "4\n",
      "5\n",
      "6\n",
      "7\n",
      "8\n",
      "9\n"
     ]
    }
   ],
   "source": [
    "for i in range(10):\n",
    "    print(i)"
   ]
  },
  {
   "cell_type": "markdown",
   "id": "011739ea-1294-4f44-80fc-081d03a97f71",
   "metadata": {},
   "source": [
    "## Multiline Statement , assignment "
   ]
  },
  {
   "cell_type": "code",
   "execution_count": 60,
   "id": "77bcb953-4417-4436-8572-ada1a8331edd",
   "metadata": {},
   "outputs": [],
   "source": [
    "a = 1 + 2 + 3 + \\\n",
    "    4 + 5 + 6 + \\\n",
    "    7 + 8"
   ]
  },
  {
   "cell_type": "code",
   "execution_count": 55,
   "id": "1ac11717-d2e1-446c-9f4c-4e7d9af1fe29",
   "metadata": {},
   "outputs": [],
   "source": [
    "a, b, c = 10, 5.5, \"ML\""
   ]
  },
  {
   "cell_type": "code",
   "execution_count": 21,
   "id": "cf016ee7-4452-4a35-bc27-198ddfb9120d",
   "metadata": {},
   "outputs": [],
   "source": [
    "a = b = c = \"Data Science\""
   ]
  },
  {
   "cell_type": "markdown",
   "id": "f0fcd554-5a47-486e-a6d3-b5b996d1a0c7",
   "metadata": {},
   "source": [
    "## Data Types\n",
    "* We can store values in the computer memory. \n",
    "* There are five basic data types in python :\n",
    "   * Numbers\n",
    "   * Strings\n",
    "   * Float\n",
    "   * Boolean\n",
    "   * Complex"
   ]
  },
  {
   "cell_type": "markdown",
   "id": "286f8e28-94eb-4a33-b977-5b3743043c7a",
   "metadata": {},
   "source": [
    "###### Numbers\n",
    "a = 2\n",
    "\n",
    "###### Python String\n",
    "s = \"This is Online AI course\"\n",
    "\n",
    "###### Complex number\n",
    "a = 1 + 2j         \n",
    "\n",
    "###### Boolean\n",
    "Boolean represents the truth values False and True\n",
    "a = True"
   ]
  },
  {
   "cell_type": "markdown",
   "id": "11dea988-0b7d-48f0-96b8-9c0ed8e1fad7",
   "metadata": {},
   "source": [
    "# Python Input"
   ]
  },
  {
   "cell_type": "code",
   "execution_count": 63,
   "id": "82d1e4f5-19d7-41b0-ba16-5d420d85bb4a",
   "metadata": {},
   "outputs": [
    {
     "name": "stdin",
     "output_type": "stream",
     "text": [
      "Enter a number:  9\n"
     ]
    }
   ],
   "source": [
    "num = input(\"Enter a number: \")"
   ]
  },
  {
   "cell_type": "markdown",
   "id": "64707ecc-14f6-46af-aadd-fac51ce11589",
   "metadata": {},
   "source": [
    "## Formatting Outputs"
   ]
  },
  {
   "cell_type": "code",
   "execution_count": 65,
   "id": "a783570f-2577-4f9d-89e0-d82bf1291d01",
   "metadata": {},
   "outputs": [
    {
     "name": "stdout",
     "output_type": "stream",
     "text": [
      "The value of a is 1 and b is 2\n"
     ]
    }
   ],
   "source": [
    "a = 1; b = 2 \n",
    "\n",
    "print(\"The value of a is {} and b is {}\".format(a, b))"
   ]
  },
  {
   "cell_type": "code",
   "execution_count": 66,
   "id": "0bd1b45b-ef70-4fc1-bd41-857d66a27b76",
   "metadata": {},
   "outputs": [
    {
     "name": "stdout",
     "output_type": "stream",
     "text": [
      "The value of b is 20 and a is 10\n"
     ]
    }
   ],
   "source": [
    "a = 10; b = 20\n",
    "print(\"The value of b is {1} and a is {0}\".format(a, b))"
   ]
  },
  {
   "cell_type": "code",
   "execution_count": 67,
   "id": "6b05a7f1-69aa-43e4-9117-07d57e8eeb6e",
   "metadata": {},
   "outputs": [
    {
     "name": "stdout",
     "output_type": "stream",
     "text": [
      "Hello Shubhangee, Good Evening\n"
     ]
    }
   ],
   "source": [
    "print(\"Hello {name}, {greeting}\".format(name=\"Shubhangee\", greeting=\"Good Evening\"))"
   ]
  }
 ],
 "metadata": {
  "kernelspec": {
   "display_name": "Python 3 (ipykernel)",
   "language": "python",
   "name": "python3"
  },
  "language_info": {
   "codemirror_mode": {
    "name": "ipython",
    "version": 3
   },
   "file_extension": ".py",
   "mimetype": "text/x-python",
   "name": "python",
   "nbconvert_exporter": "python",
   "pygments_lexer": "ipython3",
   "version": "3.8.11"
  }
 },
 "nbformat": 4,
 "nbformat_minor": 5
}
