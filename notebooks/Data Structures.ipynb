{
 "cells": [
  {
   "cell_type": "markdown",
   "id": "9b81c86e-27df-4175-b010-91679d5bf71f",
   "metadata": {},
   "source": [
    "# String Slicing"
   ]
  },
  {
   "cell_type": "code",
   "execution_count": 43,
   "id": "c3f49dc8-c1be-43df-a4c0-3ec3bc2744cd",
   "metadata": {},
   "outputs": [],
   "source": [
    "a = \"abcdefghijklmnop\""
   ]
  },
  {
   "cell_type": "code",
   "execution_count": 44,
   "id": "a9987f94-0528-4426-a676-a494b9fb6b94",
   "metadata": {},
   "outputs": [
    {
     "data": {
      "text/plain": [
       "'a'"
      ]
     },
     "execution_count": 44,
     "metadata": {},
     "output_type": "execute_result"
    }
   ],
   "source": [
    "a[0]"
   ]
  },
  {
   "cell_type": "code",
   "execution_count": 45,
   "id": "d27e5cb3-f5c5-4495-8fd1-b1c59b9e161b",
   "metadata": {},
   "outputs": [
    {
     "data": {
      "text/plain": [
       "'d'"
      ]
     },
     "execution_count": 45,
     "metadata": {},
     "output_type": "execute_result"
    }
   ],
   "source": [
    "a[3]"
   ]
  },
  {
   "cell_type": "code",
   "execution_count": 50,
   "id": "1a60b4e4-d496-491a-80da-a695f6074782",
   "metadata": {},
   "outputs": [
    {
     "data": {
      "text/plain": [
       "'abcdefghijklmnop'"
      ]
     },
     "execution_count": 50,
     "metadata": {},
     "output_type": "execute_result"
    }
   ],
   "source": [
    "a[:]"
   ]
  },
  {
   "cell_type": "code",
   "execution_count": 23,
   "id": "c160d3e1-631a-4c28-951d-9054e1a6cede",
   "metadata": {},
   "outputs": [
    {
     "data": {
      "text/plain": [
       "5"
      ]
     },
     "execution_count": 23,
     "metadata": {},
     "output_type": "execute_result"
    }
   ],
   "source": [
    "a[-1]"
   ]
  },
  {
   "cell_type": "markdown",
   "id": "51d21fad-402b-4137-87b6-dbfd19ceeb54",
   "metadata": {},
   "source": [
    "# Lists"
   ]
  },
  {
   "cell_type": "markdown",
   "id": "4d05c71a-a626-41ae-97a8-1b0f50e40c6b",
   "metadata": {},
   "source": [
    "A list is a data structure in Python that is a mutable, or changeable, ordered sequence of elements. Each element or value that is inside of a list is called an item. Just as strings are defined as characters between quotes, lists are defined by having values between square brackets [].\n",
    "\n",
    "Lists are used to store multiple items in a single variable."
   ]
  },
  {
   "cell_type": "code",
   "execution_count": 5,
   "id": "c8e77781-0f51-4620-8030-5870d463df4f",
   "metadata": {},
   "outputs": [],
   "source": [
    "a=[1,2,3,4,5]"
   ]
  },
  {
   "cell_type": "code",
   "execution_count": 6,
   "id": "8d81089f-3745-4028-b206-9e053902876a",
   "metadata": {},
   "outputs": [
    {
     "data": {
      "text/plain": [
       "[1, 2, 3, 4, 5]"
      ]
     },
     "execution_count": 6,
     "metadata": {},
     "output_type": "execute_result"
    }
   ],
   "source": [
    "a"
   ]
  },
  {
   "cell_type": "code",
   "execution_count": 7,
   "id": "86ad6a09-4a96-479e-b30e-049080715ba4",
   "metadata": {},
   "outputs": [],
   "source": [
    "b = ['a','b','c','d','e','f']"
   ]
  },
  {
   "cell_type": "code",
   "execution_count": 8,
   "id": "2ac56665-3ac3-40a6-9fd3-d68639e8827d",
   "metadata": {},
   "outputs": [
    {
     "data": {
      "text/plain": [
       "['a', 'b', 'c', 'd', 'e', 'f']"
      ]
     },
     "execution_count": 8,
     "metadata": {},
     "output_type": "execute_result"
    }
   ],
   "source": [
    "b"
   ]
  },
  {
   "cell_type": "code",
   "execution_count": 9,
   "id": "0acdfced-f5b0-45ee-97a6-f6173fa4e71b",
   "metadata": {},
   "outputs": [],
   "source": [
    "c = ['a',1,'b',2]"
   ]
  },
  {
   "cell_type": "code",
   "execution_count": 10,
   "id": "be8154e4-7f6f-460e-8ff2-b6eb8b3f6bfd",
   "metadata": {},
   "outputs": [
    {
     "data": {
      "text/plain": [
       "['a', 1, 'b', 2]"
      ]
     },
     "execution_count": 10,
     "metadata": {},
     "output_type": "execute_result"
    }
   ],
   "source": [
    "c"
   ]
  },
  {
   "cell_type": "code",
   "execution_count": 10,
   "id": "e0ed4cbb-502e-4d06-bf95-270dac46506e",
   "metadata": {},
   "outputs": [],
   "source": [
    "b.append(\"g\")"
   ]
  },
  {
   "cell_type": "code",
   "execution_count": 11,
   "id": "b6e9d28f-e0e5-4acd-a8bd-ffe3164e52b4",
   "metadata": {},
   "outputs": [
    {
     "data": {
      "text/plain": [
       "['a', 'b', 'c', 'd', 'e', 'f', 'g']"
      ]
     },
     "execution_count": 11,
     "metadata": {},
     "output_type": "execute_result"
    }
   ],
   "source": [
    "b"
   ]
  },
  {
   "cell_type": "code",
   "execution_count": 12,
   "id": "e67860ae-678c-400b-aacb-22219b5bd1c7",
   "metadata": {},
   "outputs": [
    {
     "data": {
      "text/plain": [
       "1"
      ]
     },
     "execution_count": 12,
     "metadata": {},
     "output_type": "execute_result"
    }
   ],
   "source": [
    "a[0]"
   ]
  },
  {
   "cell_type": "code",
   "execution_count": 13,
   "id": "fea339ea-fdbd-4d77-996e-ff47f36484c4",
   "metadata": {},
   "outputs": [
    {
     "data": {
      "text/plain": [
       "[2, 3, 4]"
      ]
     },
     "execution_count": 13,
     "metadata": {},
     "output_type": "execute_result"
    }
   ],
   "source": [
    "a[1:4]"
   ]
  },
  {
   "cell_type": "code",
   "execution_count": 14,
   "id": "0fbfbb5f-8d1d-4883-a520-0cd24f722f5e",
   "metadata": {},
   "outputs": [
    {
     "data": {
      "text/plain": [
       "[1, 2, 3, 4]"
      ]
     },
     "execution_count": 14,
     "metadata": {},
     "output_type": "execute_result"
    }
   ],
   "source": [
    "a[:4]"
   ]
  },
  {
   "cell_type": "code",
   "execution_count": 15,
   "id": "4e983232-2a5c-4e00-b9bb-6551cd8e3a3b",
   "metadata": {},
   "outputs": [
    {
     "data": {
      "text/plain": [
       "[3, 4, 5, 6]"
      ]
     },
     "execution_count": 15,
     "metadata": {},
     "output_type": "execute_result"
    }
   ],
   "source": [
    "a[2:]"
   ]
  },
  {
   "cell_type": "code",
   "execution_count": 16,
   "id": "8308da3f-1e17-4503-a8fc-5e51a9c9b2e5",
   "metadata": {},
   "outputs": [
    {
     "data": {
      "text/plain": [
       "['a', 'b', 'c', 'd', 'e', 'f', 'g']"
      ]
     },
     "execution_count": 16,
     "metadata": {},
     "output_type": "execute_result"
    }
   ],
   "source": [
    "b"
   ]
  },
  {
   "cell_type": "code",
   "execution_count": 17,
   "id": "3811dd06-755d-402b-a144-efac4d43f642",
   "metadata": {},
   "outputs": [],
   "source": [
    "b[0]=\"NEW\""
   ]
  },
  {
   "cell_type": "code",
   "execution_count": 18,
   "id": "2d83ea18-3e96-4c8a-a78c-a66b143e64e6",
   "metadata": {},
   "outputs": [
    {
     "data": {
      "text/plain": [
       "['NEW', 'b', 'c', 'd', 'e', 'f']"
      ]
     },
     "execution_count": 18,
     "metadata": {},
     "output_type": "execute_result"
    }
   ],
   "source": [
    "b"
   ]
  },
  {
   "cell_type": "markdown",
   "id": "adc7c35a-185b-4727-82eb-09ed732c5eaa",
   "metadata": {},
   "source": [
    "### Negative Indexing"
   ]
  },
  {
   "cell_type": "code",
   "execution_count": 20,
   "id": "18597807-2a55-4ce0-840e-7ae267612aab",
   "metadata": {},
   "outputs": [
    {
     "data": {
      "text/plain": [
       "['NEW', 'b', 'c', 'd', 'e', 'f']"
      ]
     },
     "execution_count": 20,
     "metadata": {},
     "output_type": "execute_result"
    }
   ],
   "source": [
    "b"
   ]
  },
  {
   "cell_type": "code",
   "execution_count": 22,
   "id": "b848291c-c732-4e0e-89c1-04fac89e32df",
   "metadata": {},
   "outputs": [
    {
     "data": {
      "text/plain": [
       "['c', 'd', 'e']"
      ]
     },
     "execution_count": 22,
     "metadata": {},
     "output_type": "execute_result"
    }
   ],
   "source": [
    "b[-4:-1]"
   ]
  },
  {
   "cell_type": "markdown",
   "id": "896f738f-7de0-4ef2-b5b0-8cb701baafd2",
   "metadata": {},
   "source": [
    "### Nested Lists"
   ]
  },
  {
   "cell_type": "code",
   "execution_count": 11,
   "id": "30288dbc-69c2-4c58-9a64-dc3ce246314f",
   "metadata": {},
   "outputs": [],
   "source": [
    "d = [1, 2, 3, 4, 5, [6, 7, 8, 9]]"
   ]
  },
  {
   "cell_type": "code",
   "execution_count": 12,
   "id": "52919e1b-183a-48f7-8367-708441c57f8b",
   "metadata": {},
   "outputs": [
    {
     "data": {
      "text/plain": [
       "[1, 2, 3, 4, 5, [6, 7, 8, 9]]"
      ]
     },
     "execution_count": 12,
     "metadata": {},
     "output_type": "execute_result"
    }
   ],
   "source": [
    "d"
   ]
  },
  {
   "cell_type": "markdown",
   "id": "1d711481-8198-4480-9319-7d7b35bab1ec",
   "metadata": {},
   "source": [
    "# Dictionaries\n",
    "Dictionaries are Python’s implementation of a data structure that is more generally known as an associative array. A dictionary consists of a collection of key-value pairs. Each key-value pair maps the key to its associated value."
   ]
  },
  {
   "cell_type": "markdown",
   "id": "61ffb5c3-1c5c-4185-84d7-05ee75cfa5f4",
   "metadata": {},
   "source": [
    "You can define a dictionary by enclosing a comma-separated list of key-value pairs in curly braces ({}). A colon (:) separates each key from its associated value"
   ]
  },
  {
   "cell_type": "markdown",
   "id": "91913b3f-0c9a-4e63-8685-4702e8c841d0",
   "metadata": {},
   "source": [
    "Dictionaries does not allow duplicates"
   ]
  },
  {
   "cell_type": "code",
   "execution_count": 28,
   "id": "237cc102-6b63-4a48-bef4-eac964d9e266",
   "metadata": {},
   "outputs": [],
   "source": [
    "a = [1,2,3,4,5]"
   ]
  },
  {
   "cell_type": "code",
   "execution_count": 29,
   "id": "1faff560-b1bd-4b34-81b8-35f7ab5cf843",
   "metadata": {},
   "outputs": [],
   "source": [
    "b = {\"student1\":\"John Doe\", \"student2\":\"Tom\", \"student3\":\"Jack\"}"
   ]
  },
  {
   "cell_type": "code",
   "execution_count": 30,
   "id": "4c87c12c-2894-4014-bea4-4e9f7623a765",
   "metadata": {},
   "outputs": [
    {
     "data": {
      "text/plain": [
       "'John Doe'"
      ]
     },
     "execution_count": 30,
     "metadata": {},
     "output_type": "execute_result"
    }
   ],
   "source": [
    "b[\"student1\"]"
   ]
  },
  {
   "cell_type": "code",
   "execution_count": 31,
   "id": "ca06b4a9-7673-4e11-980e-bdeb379fc6ca",
   "metadata": {},
   "outputs": [
    {
     "data": {
      "text/plain": [
       "'Tom'"
      ]
     },
     "execution_count": 31,
     "metadata": {},
     "output_type": "execute_result"
    }
   ],
   "source": [
    "b[\"student2\"]"
   ]
  },
  {
   "cell_type": "code",
   "execution_count": 32,
   "id": "8846fa6e-d426-47f8-ad9e-be35d36924da",
   "metadata": {},
   "outputs": [],
   "source": [
    "c = {\"student1\":[1,2,3,4,5]}"
   ]
  },
  {
   "cell_type": "code",
   "execution_count": 34,
   "id": "a451a7a7-1868-48d6-8154-30e66db34462",
   "metadata": {},
   "outputs": [
    {
     "data": {
      "text/plain": [
       "3"
      ]
     },
     "execution_count": 34,
     "metadata": {},
     "output_type": "execute_result"
    }
   ],
   "source": [
    "c[\"student1\"][2]"
   ]
  },
  {
   "cell_type": "code",
   "execution_count": 35,
   "id": "a41d05d0-f560-4b2c-8415-93275363cd6f",
   "metadata": {},
   "outputs": [],
   "source": [
    "c = {\"student1\":{\"age\":20}}"
   ]
  },
  {
   "cell_type": "code",
   "execution_count": 37,
   "id": "de713979-eca8-4f8f-b5c8-a771cb6b7abf",
   "metadata": {},
   "outputs": [
    {
     "data": {
      "text/plain": [
       "20"
      ]
     },
     "execution_count": 37,
     "metadata": {},
     "output_type": "execute_result"
    }
   ],
   "source": [
    "c[\"student1\"][\"age\"]"
   ]
  },
  {
   "cell_type": "markdown",
   "id": "dd7d5e2a-e977-479d-97c2-727f5b779366",
   "metadata": {},
   "source": [
    "# Tuples"
   ]
  },
  {
   "cell_type": "markdown",
   "id": "47f5be78-3efb-4b09-abac-ffc79ace5e79",
   "metadata": {},
   "source": [
    "Tuples are used to store multiple items in a single variable.\n",
    "\n",
    "Tuple is one of 4 built-in data types in Python used to store collections of data, the other 3 are List, Set, and Dictionary, all with different qualities and usage.\n",
    "\n",
    "A tuple is a collection which is ordered and unchangeable (IMMUTABLE)\n",
    "\n",
    "Tuples are written with round brackets."
   ]
  },
  {
   "cell_type": "code",
   "execution_count": 38,
   "id": "f6748846-7c4b-4dd3-a33d-3847ebc87ed3",
   "metadata": {},
   "outputs": [],
   "source": [
    "a = (1,2,3,4,5)"
   ]
  },
  {
   "cell_type": "code",
   "execution_count": 39,
   "id": "a3f299d4-7ac2-4ee1-944b-9cf28f882e7c",
   "metadata": {},
   "outputs": [],
   "source": [
    "b = [1,2,3,4,5]"
   ]
  },
  {
   "cell_type": "code",
   "execution_count": 40,
   "id": "5177edcd-5445-428c-a5b2-1bdc6773c3b8",
   "metadata": {},
   "outputs": [],
   "source": [
    "b.append(6)"
   ]
  },
  {
   "cell_type": "code",
   "execution_count": 41,
   "id": "39da5626-e0ac-425b-ada1-9d0a6e621987",
   "metadata": {},
   "outputs": [
    {
     "data": {
      "text/plain": [
       "[1, 2, 3, 4, 5, 6]"
      ]
     },
     "execution_count": 41,
     "metadata": {},
     "output_type": "execute_result"
    }
   ],
   "source": [
    "b"
   ]
  },
  {
   "cell_type": "code",
   "execution_count": 42,
   "id": "56dc2b35-caa7-49d9-a5dd-08233a906446",
   "metadata": {},
   "outputs": [
    {
     "ename": "AttributeError",
     "evalue": "'tuple' object has no attribute 'append'",
     "output_type": "error",
     "traceback": [
      "\u001b[1;31m---------------------------------------------------------------------------\u001b[0m",
      "\u001b[1;31mAttributeError\u001b[0m                            Traceback (most recent call last)",
      "\u001b[1;32m<ipython-input-42-a09ce8848fdf>\u001b[0m in \u001b[0;36m<module>\u001b[1;34m\u001b[0m\n\u001b[1;32m----> 1\u001b[1;33m \u001b[0ma\u001b[0m\u001b[1;33m.\u001b[0m\u001b[0mappend\u001b[0m\u001b[1;33m(\u001b[0m\u001b[1;36m6\u001b[0m\u001b[1;33m)\u001b[0m\u001b[1;33m\u001b[0m\u001b[1;33m\u001b[0m\u001b[0m\n\u001b[0m",
      "\u001b[1;31mAttributeError\u001b[0m: 'tuple' object has no attribute 'append'"
     ]
    }
   ],
   "source": [
    "a.append(6)"
   ]
  },
  {
   "cell_type": "markdown",
   "id": "6e81becf-1eb8-488c-92e1-5d76fb7e9be8",
   "metadata": {},
   "source": [
    "# Sets"
   ]
  },
  {
   "cell_type": "code",
   "execution_count": 43,
   "id": "8f3eb561-05ff-45a5-aee1-29a803fb7136",
   "metadata": {},
   "outputs": [],
   "source": [
    "a = {1,2,3,4,5}"
   ]
  },
  {
   "cell_type": "code",
   "execution_count": 44,
   "id": "d1befa89-3fc1-440b-985d-083fe0b73501",
   "metadata": {},
   "outputs": [
    {
     "data": {
      "text/plain": [
       "{1, 2, 3, 4, 5}"
      ]
     },
     "execution_count": 44,
     "metadata": {},
     "output_type": "execute_result"
    }
   ],
   "source": [
    "a"
   ]
  },
  {
   "cell_type": "code",
   "execution_count": 45,
   "id": "99dad195-a35d-49e0-b511-831c4b6b4442",
   "metadata": {},
   "outputs": [],
   "source": [
    "a = {1,1,1,1,1,1,1,1,1}"
   ]
  },
  {
   "cell_type": "code",
   "execution_count": 46,
   "id": "c28af780-bb6b-4d84-a416-6d891d2130b7",
   "metadata": {},
   "outputs": [
    {
     "data": {
      "text/plain": [
       "{1}"
      ]
     },
     "execution_count": 46,
     "metadata": {},
     "output_type": "execute_result"
    }
   ],
   "source": [
    "a"
   ]
  },
  {
   "cell_type": "code",
   "execution_count": 47,
   "id": "f10550b2-d536-497b-ace6-2e00dbb3609d",
   "metadata": {},
   "outputs": [],
   "source": [
    "b = {1,1,1,2,2,2,3,3,3}"
   ]
  },
  {
   "cell_type": "code",
   "execution_count": 48,
   "id": "a4dc8ae4-edab-4ea4-b584-1ac05bdb2155",
   "metadata": {},
   "outputs": [
    {
     "data": {
      "text/plain": [
       "{1, 2, 3}"
      ]
     },
     "execution_count": 48,
     "metadata": {},
     "output_type": "execute_result"
    }
   ],
   "source": [
    "b"
   ]
  }
 ],
 "metadata": {
  "kernelspec": {
   "display_name": "Python 3 (ipykernel)",
   "language": "python",
   "name": "python3"
  },
  "language_info": {
   "codemirror_mode": {
    "name": "ipython",
    "version": 3
   },
   "file_extension": ".py",
   "mimetype": "text/x-python",
   "name": "python",
   "nbconvert_exporter": "python",
   "pygments_lexer": "ipython3",
   "version": "3.8.11"
  }
 },
 "nbformat": 4,
 "nbformat_minor": 5
}
